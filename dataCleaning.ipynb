{
 "cells": [
  {
   "cell_type": "markdown",
   "metadata": {},
   "source": [
    "# Limpieza de imágenes"
   ]
  },
  {
   "cell_type": "code",
   "execution_count": 1,
   "metadata": {},
   "outputs": [],
   "source": [
    "from os import listdir\n",
    "import cv2\n",
    "import re\n",
    "import numpy as np\n",
    "import pandas as pd\n",
    "import matplotlib.pyplot as plt\n"
   ]
  },
  {
   "cell_type": "code",
   "execution_count": 2,
   "metadata": {},
   "outputs": [],
   "source": [
    "faceCascade = cv2.CascadeClassifier('haarcascade_frontalface_default.xml')"
   ]
  },
  {
   "cell_type": "code",
   "execution_count": 218,
   "metadata": {},
   "outputs": [],
   "source": [
    "def cleanData(img):\n",
    "    '''\n",
    "    Reconoce el rostro de personas sobre imágenes:\n",
    "    - Crea una sección que encuadra el rostro.\n",
    "    - Transforma la imagen a escala de grises.\n",
    "    - Reescala la imagen a 48x48.\n",
    "    - Traduce la información del cuadrante a np.array.\n",
    "    \n",
    "    En el caso de no reconocer ningun rostro devuelve /no.\n",
    "    '''\n",
    "    try:\n",
    "        image = cv2.imread(img, cv2.IMREAD_GRAYSCALE)\n",
    "        face_p = faceCascade.detectMultiScale(\n",
    "            image,\n",
    "            scaleFactor=1.1,\n",
    "            minNeighbors=5\n",
    "        )\n",
    "\n",
    "        (x, y, w, h) = face_p[0]\n",
    "\n",
    "        crop_image = image[y:y+h,x:x+w]\n",
    "\n",
    "        img_data=cv2.resize(crop_image,(60,60))\n",
    "        \n",
    "    except Exception as e:\n",
    "        return e,'no'\n",
    "    \n",
    "    return img_data\n",
    "        "
   ]
  },
  {
   "cell_type": "markdown",
   "metadata": {},
   "source": [
    "#### Dirección de los datos"
   ]
  },
  {
   "cell_type": "code",
   "execution_count": 219,
   "metadata": {},
   "outputs": [],
   "source": [
    "key_m = './input/men/'\n",
    "key_w = './input/women/'\n",
    "value_m = listdir(key_m)\n",
    "value_w = listdir(key_w)"
   ]
  },
  {
   "cell_type": "code",
   "execution_count": 220,
   "metadata": {},
   "outputs": [],
   "source": [
    "p_man = [key_m + m for m in value_m]\n",
    "p_woman = [key_w + w for w in value_w]\n",
    "\n",
    "all_keys = ['man', 'woman']\n",
    "all_values = [p_man, p_woman]"
   ]
  },
  {
   "cell_type": "markdown",
   "metadata": {},
   "source": [
    "Concat de todos los path"
   ]
  },
  {
   "cell_type": "code",
   "execution_count": 221,
   "metadata": {},
   "outputs": [
    {
     "data": {
      "text/plain": [
       "['./input/men/00001722.jpg',\n",
       " './input/men/00001044.jpg',\n",
       " './input/men/00001291.png',\n",
       " './input/men/00001050.jpg',\n",
       " './input/men/00001736.jpg']"
      ]
     },
     "execution_count": 221,
     "metadata": {},
     "output_type": "execute_result"
    }
   ],
   "source": [
    "concat_values = p_man + p_woman\n",
    "concat_values[:5]"
   ]
  },
  {
   "cell_type": "markdown",
   "metadata": {},
   "source": [
    "Diccionario con los valores clave de cada imagen"
   ]
  },
  {
   "cell_type": "code",
   "execution_count": 222,
   "metadata": {},
   "outputs": [],
   "source": [
    "p_dict = {}\n",
    "\n",
    "for e in range(len(concat_values)):\n",
    "    p_dict[e] = {\n",
    "        'sex': concat_values[e].split('/')[2],\n",
    "        'name': concat_values[e].split('/')[3],\n",
    "        'path': concat_values[e],\n",
    "        'array': cleanData(concat_values[e])\n",
    "    }"
   ]
  },
  {
   "cell_type": "markdown",
   "metadata": {},
   "source": [
    "Limpieza de DataFrame final"
   ]
  },
  {
   "cell_type": "code",
   "execution_count": 242,
   "metadata": {},
   "outputs": [
    {
     "data": {
      "text/html": [
       "<div>\n",
       "<style scoped>\n",
       "    .dataframe tbody tr th:only-of-type {\n",
       "        vertical-align: middle;\n",
       "    }\n",
       "\n",
       "    .dataframe tbody tr th {\n",
       "        vertical-align: top;\n",
       "    }\n",
       "\n",
       "    .dataframe thead th {\n",
       "        text-align: right;\n",
       "    }\n",
       "</style>\n",
       "<table border=\"1\" class=\"dataframe\">\n",
       "  <thead>\n",
       "    <tr style=\"text-align: right;\">\n",
       "      <th></th>\n",
       "      <th>sex</th>\n",
       "      <th>name</th>\n",
       "      <th>path</th>\n",
       "      <th>array</th>\n",
       "    </tr>\n",
       "  </thead>\n",
       "  <tbody>\n",
       "    <tr>\n",
       "      <th>0</th>\n",
       "      <td>men</td>\n",
       "      <td>00001722.jpg</td>\n",
       "      <td>./input/men/00001722.jpg</td>\n",
       "      <td>[[78, 79, 79, 79, 80, 80, 81, 81, 80, 78, 80, ...</td>\n",
       "    </tr>\n",
       "    <tr>\n",
       "      <th>1</th>\n",
       "      <td>men</td>\n",
       "      <td>00001044.jpg</td>\n",
       "      <td>./input/men/00001044.jpg</td>\n",
       "      <td>[[18, 27, 32, 27, 39, 41, 41, 41, 48, 65, 65, ...</td>\n",
       "    </tr>\n",
       "    <tr>\n",
       "      <th>2</th>\n",
       "      <td>men</td>\n",
       "      <td>00001291.png</td>\n",
       "      <td>./input/men/00001291.png</td>\n",
       "      <td>[[89, 89, 89, 89, 89, 89, 89, 89, 89, 89, 89, ...</td>\n",
       "    </tr>\n",
       "    <tr>\n",
       "      <th>3</th>\n",
       "      <td>men</td>\n",
       "      <td>00001050.jpg</td>\n",
       "      <td>./input/men/00001050.jpg</td>\n",
       "      <td>[[30, 31, 37, 37, 31, 26, 30, 21, 22, 23, 22, ...</td>\n",
       "    </tr>\n",
       "    <tr>\n",
       "      <th>4</th>\n",
       "      <td>men</td>\n",
       "      <td>00001736.jpg</td>\n",
       "      <td>./input/men/00001736.jpg</td>\n",
       "      <td>[[255, 255, 254, 255, 255, 253, 247, 85, 25, 8...</td>\n",
       "    </tr>\n",
       "  </tbody>\n",
       "</table>\n",
       "</div>"
      ],
      "text/plain": [
       "   sex          name                      path  \\\n",
       "0  men  00001722.jpg  ./input/men/00001722.jpg   \n",
       "1  men  00001044.jpg  ./input/men/00001044.jpg   \n",
       "2  men  00001291.png  ./input/men/00001291.png   \n",
       "3  men  00001050.jpg  ./input/men/00001050.jpg   \n",
       "4  men  00001736.jpg  ./input/men/00001736.jpg   \n",
       "\n",
       "                                               array  \n",
       "0  [[78, 79, 79, 79, 80, 80, 81, 81, 80, 78, 80, ...  \n",
       "1  [[18, 27, 32, 27, 39, 41, 41, 41, 48, 65, 65, ...  \n",
       "2  [[89, 89, 89, 89, 89, 89, 89, 89, 89, 89, 89, ...  \n",
       "3  [[30, 31, 37, 37, 31, 26, 30, 21, 22, 23, 22, ...  \n",
       "4  [[255, 255, 254, 255, 255, 253, 247, 85, 25, 8...  "
      ]
     },
     "execution_count": 242,
     "metadata": {},
     "output_type": "execute_result"
    }
   ],
   "source": [
    "data = pd.DataFrame(p_dict).T\n",
    "data.head()"
   ]
  },
  {
   "cell_type": "code",
   "execution_count": 243,
   "metadata": {},
   "outputs": [],
   "source": [
    "data.reset_index(drop=True, inplace=True)"
   ]
  },
  {
   "cell_type": "code",
   "execution_count": 244,
   "metadata": {},
   "outputs": [],
   "source": [
    "dfDup = data"
   ]
  },
  {
   "cell_type": "code",
   "execution_count": 245,
   "metadata": {},
   "outputs": [
    {
     "data": {
      "text/plain": [
       "<matplotlib.image.AxesImage at 0x154f408d0>"
      ]
     },
     "execution_count": 245,
     "metadata": {},
     "output_type": "execute_result"
    },
    {
     "data": {
      "image/png": "[encoded data removed]",
      "text/plain": [
       "<Figure size 432x288 with 1 Axes>"
      ]
     },
     "metadata": {
      "needs_background": "light"
     },
     "output_type": "display_data"
    }
   ],
   "source": [
    "plt.imshow(np.flip(dfDup.array[0],1))"
   ]
  },
  {
   "cell_type": "code",
   "execution_count": 248,
   "metadata": {},
   "outputs": [],
   "source": [
    "dfDup.array = dfDup.array.apply(lambda x: np.flip(x))"
   ]
  },
  {
   "cell_type": "code",
   "execution_count": 249,
   "metadata": {},
   "outputs": [
    {
     "data": {
      "text/plain": [
       "<matplotlib.image.AxesImage at 0x154c0f490>"
      ]
     },
     "execution_count": 249,
     "metadata": {},
     "output_type": "execute_result"
    },
    {
     "data": {
      "image/png": "[encoded data removed]",
      "text/plain": [
       "<Figure size 432x288 with 1 Axes>"
      ]
     },
     "metadata": {
      "needs_background": "light"
     },
     "output_type": "display_data"
    }
   ],
   "source": [
    "plt.imshow(dfDup.array[0])"
   ]
  },
  {
   "cell_type": "code",
   "execution_count": 250,
   "metadata": {},
   "outputs": [],
   "source": [
    "dataD = pd.concat([data, dfDup], ignore_index=True)"
   ]
  },
  {
   "cell_type": "code",
   "execution_count": 251,
   "metadata": {},
   "outputs": [
    {
     "data": {
      "text/plain": [
       "6660"
      ]
     },
     "execution_count": 251,
     "metadata": {},
     "output_type": "execute_result"
    }
   ],
   "source": [
    "len(dataD)"
   ]
  },
  {
   "cell_type": "code",
   "execution_count": 252,
   "metadata": {},
   "outputs": [],
   "source": [
    "#dataD['sex'] = pd.get_dummies(dataD['sex'])"
   ]
  },
  {
   "cell_type": "code",
   "execution_count": 253,
   "metadata": {},
   "outputs": [
    {
     "data": {
      "text/plain": [
       "array([IndexError('tuple index out of range'), 'no'], dtype=object)"
      ]
     },
     "execution_count": 253,
     "metadata": {},
     "output_type": "execute_result"
    }
   ],
   "source": [
    "dataD['array'][12]"
   ]
  },
  {
   "cell_type": "code",
   "execution_count": 254,
   "metadata": {},
   "outputs": [],
   "source": [
    "sex = pd.get_dummies(dataD['sex'])"
   ]
  },
  {
   "cell_type": "code",
   "execution_count": 255,
   "metadata": {},
   "outputs": [],
   "source": [
    "dataD['men'] = sex['men']\n",
    "dataD['women'] = sex['women']"
   ]
  },
  {
   "cell_type": "code",
   "execution_count": 258,
   "metadata": {},
   "outputs": [],
   "source": [
    "dataD['sex'] = dataD[['men','women']].apply(lambda x: pd.Series([x.values]), axis=1)"
   ]
  },
  {
   "cell_type": "code",
   "execution_count": 259,
   "metadata": {},
   "outputs": [
    {
     "data": {
      "text/html": [
       "<div>\n",
       "<style scoped>\n",
       "    .dataframe tbody tr th:only-of-type {\n",
       "        vertical-align: middle;\n",
       "    }\n",
       "\n",
       "    .dataframe tbody tr th {\n",
       "        vertical-align: top;\n",
       "    }\n",
       "\n",
       "    .dataframe thead th {\n",
       "        text-align: right;\n",
       "    }\n",
       "</style>\n",
       "<table border=\"1\" class=\"dataframe\">\n",
       "  <thead>\n",
       "    <tr style=\"text-align: right;\">\n",
       "      <th></th>\n",
       "      <th>sex</th>\n",
       "      <th>name</th>\n",
       "      <th>path</th>\n",
       "      <th>array</th>\n",
       "      <th>men</th>\n",
       "      <th>women</th>\n",
       "    </tr>\n",
       "  </thead>\n",
       "  <tbody>\n",
       "    <tr>\n",
       "      <th>0</th>\n",
       "      <td>[1, 0]</td>\n",
       "      <td>00001722.jpg</td>\n",
       "      <td>./input/men/00001722.jpg</td>\n",
       "      <td>[[40, 45, 60, 74, 92, 94, 95, 107, 112, 110, 1...</td>\n",
       "      <td>1</td>\n",
       "      <td>0</td>\n",
       "    </tr>\n",
       "    <tr>\n",
       "      <th>1</th>\n",
       "      <td>[1, 0]</td>\n",
       "      <td>00001044.jpg</td>\n",
       "      <td>./input/men/00001044.jpg</td>\n",
       "      <td>[[190, 202, 199, 211, 196, 175, 215, 50, 51, 5...</td>\n",
       "      <td>1</td>\n",
       "      <td>0</td>\n",
       "    </tr>\n",
       "    <tr>\n",
       "      <th>2</th>\n",
       "      <td>[1, 0]</td>\n",
       "      <td>00001291.png</td>\n",
       "      <td>./input/men/00001291.png</td>\n",
       "      <td>[[132, 132, 130, 132, 131, 129, 178, 178, 178,...</td>\n",
       "      <td>1</td>\n",
       "      <td>0</td>\n",
       "    </tr>\n",
       "    <tr>\n",
       "      <th>3</th>\n",
       "      <td>[1, 0]</td>\n",
       "      <td>00001050.jpg</td>\n",
       "      <td>./input/men/00001050.jpg</td>\n",
       "      <td>[[198, 158, 36, 28, 17, 13, 41, 43, 32, 25, 21...</td>\n",
       "      <td>1</td>\n",
       "      <td>0</td>\n",
       "    </tr>\n",
       "    <tr>\n",
       "      <th>4</th>\n",
       "      <td>[1, 0]</td>\n",
       "      <td>00001736.jpg</td>\n",
       "      <td>./input/men/00001736.jpg</td>\n",
       "      <td>[[255, 255, 255, 255, 253, 252, 253, 181, 40, ...</td>\n",
       "      <td>1</td>\n",
       "      <td>0</td>\n",
       "    </tr>\n",
       "    <tr>\n",
       "      <th>...</th>\n",
       "      <td>...</td>\n",
       "      <td>...</td>\n",
       "      <td>...</td>\n",
       "      <td>...</td>\n",
       "      <td>...</td>\n",
       "      <td>...</td>\n",
       "    </tr>\n",
       "    <tr>\n",
       "      <th>6655</th>\n",
       "      <td>[0, 1]</td>\n",
       "      <td>00002226.jpg</td>\n",
       "      <td>./input/women/00002226.jpg</td>\n",
       "      <td>[[61, 53, 25, 31, 26, 22, 23, 22, 20, 26, 28, ...</td>\n",
       "      <td>0</td>\n",
       "      <td>1</td>\n",
       "    </tr>\n",
       "    <tr>\n",
       "      <th>6656</th>\n",
       "      <td>[0, 1]</td>\n",
       "      <td>00001049.jpg</td>\n",
       "      <td>./input/women/00001049.jpg</td>\n",
       "      <td>[[125, 141, 140, 138, 114, 127, 138, 160, 163,...</td>\n",
       "      <td>0</td>\n",
       "      <td>1</td>\n",
       "    </tr>\n",
       "    <tr>\n",
       "      <th>6657</th>\n",
       "      <td>[0, 1]</td>\n",
       "      <td>00001288.png</td>\n",
       "      <td>./input/women/00001288.png</td>\n",
       "      <td>[[18, 24, 21, 25, 33, 36, 22, 9, 23, 29, 30, 3...</td>\n",
       "      <td>0</td>\n",
       "      <td>1</td>\n",
       "    </tr>\n",
       "    <tr>\n",
       "      <th>6658</th>\n",
       "      <td>[0, 1]</td>\n",
       "      <td>00000343.jpg</td>\n",
       "      <td>./input/women/00000343.jpg</td>\n",
       "      <td>[[39, 48, 48, 67, 94, 99, 92, 103, 120, 133, 1...</td>\n",
       "      <td>0</td>\n",
       "      <td>1</td>\n",
       "    </tr>\n",
       "    <tr>\n",
       "      <th>6659</th>\n",
       "      <td>[0, 1]</td>\n",
       "      <td>00002232.jpg</td>\n",
       "      <td>./input/women/00002232.jpg</td>\n",
       "      <td>[[133, 134, 134, 134, 132, 130, 130, 129, 130,...</td>\n",
       "      <td>0</td>\n",
       "      <td>1</td>\n",
       "    </tr>\n",
       "  </tbody>\n",
       "</table>\n",
       "<p>6660 rows × 6 columns</p>\n",
       "</div>"
      ],
      "text/plain": [
       "         sex          name                        path  \\\n",
       "0     [1, 0]  00001722.jpg    ./input/men/00001722.jpg   \n",
       "1     [1, 0]  00001044.jpg    ./input/men/00001044.jpg   \n",
       "2     [1, 0]  00001291.png    ./input/men/00001291.png   \n",
       "3     [1, 0]  00001050.jpg    ./input/men/00001050.jpg   \n",
       "4     [1, 0]  00001736.jpg    ./input/men/00001736.jpg   \n",
       "...      ...           ...                         ...   \n",
       "6655  [0, 1]  00002226.jpg  ./input/women/00002226.jpg   \n",
       "6656  [0, 1]  00001049.jpg  ./input/women/00001049.jpg   \n",
       "6657  [0, 1]  00001288.png  ./input/women/00001288.png   \n",
       "6658  [0, 1]  00000343.jpg  ./input/women/00000343.jpg   \n",
       "6659  [0, 1]  00002232.jpg  ./input/women/00002232.jpg   \n",
       "\n",
       "                                                  array  men  women  \n",
       "0     [[40, 45, 60, 74, 92, 94, 95, 107, 112, 110, 1...    1      0  \n",
       "1     [[190, 202, 199, 211, 196, 175, 215, 50, 51, 5...    1      0  \n",
       "2     [[132, 132, 130, 132, 131, 129, 178, 178, 178,...    1      0  \n",
       "3     [[198, 158, 36, 28, 17, 13, 41, 43, 32, 25, 21...    1      0  \n",
       "4     [[255, 255, 255, 255, 253, 252, 253, 181, 40, ...    1      0  \n",
       "...                                                 ...  ...    ...  \n",
       "6655  [[61, 53, 25, 31, 26, 22, 23, 22, 20, 26, 28, ...    0      1  \n",
       "6656  [[125, 141, 140, 138, 114, 127, 138, 160, 163,...    0      1  \n",
       "6657  [[18, 24, 21, 25, 33, 36, 22, 9, 23, 29, 30, 3...    0      1  \n",
       "6658  [[39, 48, 48, 67, 94, 99, 92, 103, 120, 133, 1...    0      1  \n",
       "6659  [[133, 134, 134, 134, 132, 130, 130, 129, 130,...    0      1  \n",
       "\n",
       "[6660 rows x 6 columns]"
      ]
     },
     "execution_count": 259,
     "metadata": {},
     "output_type": "execute_result"
    }
   ],
   "source": [
    "dataD"
   ]
  },
  {
   "cell_type": "code",
   "execution_count": 260,
   "metadata": {},
   "outputs": [],
   "source": [
    "dataD.drop(columns=['men','women'], inplace=True)"
   ]
  },
  {
   "cell_type": "code",
   "execution_count": 261,
   "metadata": {},
   "outputs": [
    {
     "name": "stderr",
     "output_type": "stream",
     "text": [
      "/usr/local/lib/python3.7/site-packages/ipykernel_launcher.py:2: FutureWarning: elementwise comparison failed; returning scalar instead, but in the future will perform elementwise comparison\n",
      "  \n"
     ]
    },
    {
     "data": {
      "text/plain": [
       "5620"
      ]
     },
     "execution_count": 261,
     "metadata": {},
     "output_type": "execute_result"
    }
   ],
   "source": [
    "for e in range(len(dataD['array'])):\n",
    "    if 'no' in dataD['array'][e]:\n",
    "        dataD.drop(e, axis=0, inplace=True)\n",
    "    else:\n",
    "        pass\n",
    "\n",
    "len(dataD)"
   ]
  },
  {
   "cell_type": "code",
   "execution_count": 262,
   "metadata": {},
   "outputs": [],
   "source": [
    "dataD.to_pickle('./output/dataCleanGray.pkl')"
   ]
  },
  {
   "cell_type": "code",
   "execution_count": null,
   "metadata": {},
   "outputs": [],
   "source": []
  }
 ],
 "metadata": {
  "hide_input": false,
  "kernelspec": {
   "display_name": "Python 3",
   "language": "python",
   "name": "python3"
  },
  "language_info": {
   "codemirror_mode": {
    "name": "ipython",
    "version": 3
   },
   "file_extension": ".py",
   "mimetype": "text/x-python",
   "name": "python",
   "nbconvert_exporter": "python",
   "pygments_lexer": "ipython3",
   "version": "3.7.6"
  }
 },
 "nbformat": 4,
 "nbformat_minor": 4
}
