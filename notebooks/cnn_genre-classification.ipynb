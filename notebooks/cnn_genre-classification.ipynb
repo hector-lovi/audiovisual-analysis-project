{
 "cells": [
  {
   "cell_type": "markdown",
   "metadata": {},
   "source": [
    "# Imports"
   ]
  },
  {
   "cell_type": "code",
   "execution_count": 13,
   "metadata": {},
   "outputs": [],
   "source": [
    "import cv2 \n",
    "import json\n",
    "import random\n",
    "import pandas as pd\n",
    "from PIL import Image\n",
    "import numpy as np\n",
    "import matplotlib.pyplot as plt\n",
    "import keras\n",
    "from keras.models import model_from_json\n",
    "from sklearn.preprocessing import LabelBinarizer\n",
    "from keras.models import Sequential,load_model\n",
    "from sklearn.model_selection import train_test_split\n",
    "from keras.layers.normalization import BatchNormalization\n",
    "from keras.layers.convolutional import Conv2D\n",
    "from keras.layers.convolutional import MaxPooling2D\n",
    "from keras.layers.core import Activation, Flatten, Dropout, Dense\n",
    "from keras import backend as K\n",
    "from keras.preprocessing.image import ImageDataGenerator\n",
    "from keras.optimizers import Adam\n",
    "from keras.preprocessing import image\n",
    "from keras.callbacks import ModelCheckpoint"
   ]
  },
  {
   "cell_type": "markdown",
   "metadata": {},
   "source": [
    "# Import dataframe"
   ]
  },
  {
   "cell_type": "code",
   "execution_count": 57,
   "metadata": {},
   "outputs": [
    {
     "data": {
      "text/html": [
       "<div>\n",
       "<style scoped>\n",
       "    .dataframe tbody tr th:only-of-type {\n",
       "        vertical-align: middle;\n",
       "    }\n",
       "\n",
       "    .dataframe tbody tr th {\n",
       "        vertical-align: top;\n",
       "    }\n",
       "\n",
       "    .dataframe thead th {\n",
       "        text-align: right;\n",
       "    }\n",
       "</style>\n",
       "<table border=\"1\" class=\"dataframe\">\n",
       "  <thead>\n",
       "    <tr style=\"text-align: right;\">\n",
       "      <th></th>\n",
       "      <th>sex</th>\n",
       "      <th>array</th>\n",
       "    </tr>\n",
       "  </thead>\n",
       "  <tbody>\n",
       "    <tr>\n",
       "      <th>0</th>\n",
       "      <td>men</td>\n",
       "      <td>[[78, 79, 79, 79, 80, 80, 81, 81, 80, 78, 80, ...</td>\n",
       "    </tr>\n",
       "    <tr>\n",
       "      <th>1</th>\n",
       "      <td>men</td>\n",
       "      <td>[[18, 27, 32, 27, 39, 41, 41, 41, 48, 65, 65, ...</td>\n",
       "    </tr>\n",
       "    <tr>\n",
       "      <th>2</th>\n",
       "      <td>men</td>\n",
       "      <td>[[89, 89, 89, 89, 89, 89, 89, 89, 89, 89, 89, ...</td>\n",
       "    </tr>\n",
       "    <tr>\n",
       "      <th>3</th>\n",
       "      <td>men</td>\n",
       "      <td>[[30, 31, 37, 37, 31, 26, 30, 21, 22, 23, 22, ...</td>\n",
       "    </tr>\n",
       "    <tr>\n",
       "      <th>4</th>\n",
       "      <td>men</td>\n",
       "      <td>[[255, 255, 254, 255, 255, 253, 247, 85, 25, 8...</td>\n",
       "    </tr>\n",
       "    <tr>\n",
       "      <th>...</th>\n",
       "      <td>...</td>\n",
       "      <td>...</td>\n",
       "    </tr>\n",
       "    <tr>\n",
       "      <th>3325</th>\n",
       "      <td>women</td>\n",
       "      <td>[[167, 169, 172, 189, 209, 225, 235, 240, 244,...</td>\n",
       "    </tr>\n",
       "    <tr>\n",
       "      <th>3326</th>\n",
       "      <td>women</td>\n",
       "      <td>[[62, 59, 62, 58, 61, 42, 44, 78, 106, 117, 12...</td>\n",
       "    </tr>\n",
       "    <tr>\n",
       "      <th>3327</th>\n",
       "      <td>women</td>\n",
       "      <td>[[35, 27, 31, 24, 30, 24, 24, 22, 22, 21, 22, ...</td>\n",
       "    </tr>\n",
       "    <tr>\n",
       "      <th>3328</th>\n",
       "      <td>women</td>\n",
       "      <td>[[96, 87, 99, 120, 126, 135, 153, 173, 178, 13...</td>\n",
       "    </tr>\n",
       "    <tr>\n",
       "      <th>3329</th>\n",
       "      <td>women</td>\n",
       "      <td>[[114, 143, 142, 116, 115, 138, 149, 167, 164,...</td>\n",
       "    </tr>\n",
       "  </tbody>\n",
       "</table>\n",
       "<p>2810 rows × 2 columns</p>\n",
       "</div>"
      ],
      "text/plain": [
       "        sex                                              array\n",
       "0       men  [[78, 79, 79, 79, 80, 80, 81, 81, 80, 78, 80, ...\n",
       "1       men  [[18, 27, 32, 27, 39, 41, 41, 41, 48, 65, 65, ...\n",
       "2       men  [[89, 89, 89, 89, 89, 89, 89, 89, 89, 89, 89, ...\n",
       "3       men  [[30, 31, 37, 37, 31, 26, 30, 21, 22, 23, 22, ...\n",
       "4       men  [[255, 255, 254, 255, 255, 253, 247, 85, 25, 8...\n",
       "...     ...                                                ...\n",
       "3325  women  [[167, 169, 172, 189, 209, 225, 235, 240, 244,...\n",
       "3326  women  [[62, 59, 62, 58, 61, 42, 44, 78, 106, 117, 12...\n",
       "3327  women  [[35, 27, 31, 24, 30, 24, 24, 22, 22, 21, 22, ...\n",
       "3328  women  [[96, 87, 99, 120, 126, 135, 153, 173, 178, 13...\n",
       "3329  women  [[114, 143, 142, 116, 115, 138, 149, 167, 164,...\n",
       "\n",
       "[2810 rows x 2 columns]"
      ]
     },
     "execution_count": 57,
     "metadata": {},
     "output_type": "execute_result"
    }
   ],
   "source": [
    "df = pd.read_pickle('./output/dataCleanGrayDef.pkl')\n",
    "df"
   ]
  },
  {
   "cell_type": "code",
   "execution_count": 58,
   "metadata": {},
   "outputs": [],
   "source": [
    "df['sex'] = df['sex'].apply(lambda x: np.where(x == 'men', 0, 1))"
   ]
  },
  {
   "cell_type": "code",
   "execution_count": 59,
   "metadata": {},
   "outputs": [],
   "source": [
    "X = np.stack(df['array'])\n",
    "y = np.stack(df['sex'])"
   ]
  },
  {
   "cell_type": "code",
   "execution_count": 60,
   "metadata": {},
   "outputs": [],
   "source": [
    "train_X, test_X, y_train, y_test = train_test_split(X, y, test_size=0.2)"
   ]
  },
  {
   "cell_type": "code",
   "execution_count": 61,
   "metadata": {},
   "outputs": [],
   "source": [
    "n_classes = 2\n",
    "# convert class vectors to binary class matrices\n",
    "y_train = keras.utils.to_categorical(y_train, num_classes=n_classes, dtype='float32')\n",
    "y_test = keras.utils.to_categorical(y_test, num_classes=n_classes, dtype='float32')"
   ]
  },
  {
   "cell_type": "code",
   "execution_count": 62,
   "metadata": {},
   "outputs": [
    {
     "data": {
      "text/plain": [
       "(2248, 60, 60)"
      ]
     },
     "execution_count": 62,
     "metadata": {},
     "output_type": "execute_result"
    }
   ],
   "source": [
    "train_X.shape"
   ]
  },
  {
   "cell_type": "markdown",
   "metadata": {},
   "source": [
    "# Sequential model"
   ]
  },
  {
   "cell_type": "code",
   "execution_count": 71,
   "metadata": {},
   "outputs": [
    {
     "name": "stdout",
     "output_type": "stream",
     "text": [
      "Model: \"sequential_7\"\n",
      "_________________________________________________________________\n",
      "Layer (type)                 Output Shape              Param #   \n",
      "=================================================================\n",
      "conv2d_17 (Conv2D)           (None, 60, 60, 32)        320       \n",
      "_________________________________________________________________\n",
      "activation_22 (Activation)   (None, 60, 60, 32)        0         \n",
      "_________________________________________________________________\n",
      "batch_normalization_19 (Batc (None, 60, 60, 32)        128       \n",
      "_________________________________________________________________\n",
      "max_pooling2d_10 (MaxPooling (None, 20, 20, 32)        0         \n",
      "_________________________________________________________________\n",
      "dropout_13 (Dropout)         (None, 20, 20, 32)        0         \n",
      "_________________________________________________________________\n",
      "conv2d_18 (Conv2D)           (None, 20, 20, 64)        18496     \n",
      "_________________________________________________________________\n",
      "activation_23 (Activation)   (None, 20, 20, 64)        0         \n",
      "_________________________________________________________________\n",
      "batch_normalization_20 (Batc (None, 20, 20, 64)        256       \n",
      "_________________________________________________________________\n",
      "conv2d_19 (Conv2D)           (None, 20, 20, 64)        36928     \n",
      "_________________________________________________________________\n",
      "activation_24 (Activation)   (None, 20, 20, 64)        0         \n",
      "_________________________________________________________________\n",
      "batch_normalization_21 (Batc (None, 20, 20, 64)        256       \n",
      "_________________________________________________________________\n",
      "max_pooling2d_11 (MaxPooling (None, 10, 10, 64)        0         \n",
      "_________________________________________________________________\n",
      "dropout_14 (Dropout)         (None, 10, 10, 64)        0         \n",
      "_________________________________________________________________\n",
      "conv2d_20 (Conv2D)           (None, 10, 10, 128)       73856     \n",
      "_________________________________________________________________\n",
      "activation_25 (Activation)   (None, 10, 10, 128)       0         \n",
      "_________________________________________________________________\n",
      "batch_normalization_22 (Batc (None, 10, 10, 128)       512       \n",
      "_________________________________________________________________\n",
      "conv2d_21 (Conv2D)           (None, 10, 10, 128)       147584    \n",
      "_________________________________________________________________\n",
      "activation_26 (Activation)   (None, 10, 10, 128)       0         \n",
      "_________________________________________________________________\n",
      "batch_normalization_23 (Batc (None, 10, 10, 128)       512       \n",
      "_________________________________________________________________\n",
      "max_pooling2d_12 (MaxPooling (None, 5, 5, 128)         0         \n",
      "_________________________________________________________________\n",
      "dropout_15 (Dropout)         (None, 5, 5, 128)         0         \n",
      "_________________________________________________________________\n",
      "flatten_4 (Flatten)          (None, 3200)              0         \n",
      "_________________________________________________________________\n",
      "dense_7 (Dense)              (None, 1024)              3277824   \n",
      "_________________________________________________________________\n",
      "activation_27 (Activation)   (None, 1024)              0         \n",
      "_________________________________________________________________\n",
      "batch_normalization_24 (Batc (None, 1024)              4096      \n",
      "_________________________________________________________________\n",
      "dropout_16 (Dropout)         (None, 1024)              0         \n",
      "_________________________________________________________________\n",
      "dense_8 (Dense)              (None, 2)                 2050      \n",
      "_________________________________________________________________\n",
      "activation_28 (Activation)   (None, 2)                 0         \n",
      "=================================================================\n",
      "Total params: 3,562,818\n",
      "Trainable params: 3,559,938\n",
      "Non-trainable params: 2,880\n",
      "_________________________________________________________________\n"
     ]
    }
   ],
   "source": [
    "model = Sequential()\n",
    "chanDim = -1\n",
    "\n",
    "if K.image_data_format() == 'channels_first':\n",
    "    train_X = train_X.reshape(train_X.shape[0], 1, 60, 60)\n",
    "    test_X = test_X.reshape(test_X.shape[0], 1, 60, 60)\n",
    "    input_shape = (1, 60, 60)\n",
    "else:\n",
    "    train_X = train_X.reshape(train_X.shape[0], 60, 60, 1)\n",
    "    test_X = test_X.reshape(test_X.shape[0], 60, 60, 1)\n",
    "    input_shape = (60, 60, 1)\n",
    "    \n",
    "model.add(Conv2D(32, (3, 3), padding=\"same\", input_shape=(60,60,1)))\n",
    "model.add(Activation(\"relu\"))\n",
    "model.add(BatchNormalization(axis=chanDim))\n",
    "model.add(MaxPooling2D(pool_size=(3, 3)))\n",
    "model.add(Dropout(0.25))\n",
    "model.add(Conv2D(64, (3, 3), padding=\"same\"))\n",
    "model.add(Activation(\"relu\"))\n",
    "model.add(BatchNormalization(axis=chanDim))\n",
    "model.add(Conv2D(64, (3, 3), padding=\"same\"))\n",
    "model.add(Activation(\"relu\"))\n",
    "model.add(BatchNormalization(axis=chanDim))\n",
    "model.add(MaxPooling2D(pool_size=(2, 2)))\n",
    "model.add(Dropout(0.25))\n",
    "model.add(Conv2D(128, (3, 3), padding=\"same\"))\n",
    "model.add(Activation(\"relu\"))\n",
    "model.add(BatchNormalization(axis=chanDim))\n",
    "model.add(Conv2D(128, (3, 3), padding=\"same\"))\n",
    "model.add(Activation(\"relu\"))\n",
    "model.add(BatchNormalization(axis=chanDim))\n",
    "model.add(MaxPooling2D(pool_size=(2, 2)))\n",
    "model.add(Dropout(0.25))\n",
    "model.add(Flatten())\n",
    "model.add(Dense(1024))\n",
    "model.add(Activation(\"relu\"))\n",
    "model.add(BatchNormalization())\n",
    "model.add(Dropout(0.5))\n",
    "model.add(Dense(n_classes))\n",
    "model.add(Activation(\"softmax\"))\n",
    "\n",
    "model.summary()\n",
    "\n",
    "# CNN params\n",
    "\n",
    "EPOCHS = 20\n",
    "INIT_LR = 1e-3\n",
    "BS = 32\n",
    "opt = Adam(lr=INIT_LR, decay=INIT_LR / EPOCHS)\n",
    "\n",
    "#Training the model\n",
    "\n",
    "model.compile(loss='categorical_crossentropy',\n",
    "                optimizer=opt, metrics=['accuracy'])"
   ]
  },
  {
   "cell_type": "markdown",
   "metadata": {},
   "source": [
    "# Fitting model"
   ]
  },
  {
   "cell_type": "code",
   "execution_count": 72,
   "metadata": {},
   "outputs": [
    {
     "name": "stdout",
     "output_type": "stream",
     "text": [
      "Train on 2248 samples, validate on 562 samples\n",
      "Epoch 1/20\n",
      "2248/2248 [==============================] - 34s 15ms/step - loss: 1.0249 - accuracy: 0.6321 - val_loss: 1.0609 - val_accuracy: 0.5996\n",
      "Epoch 2/20\n",
      "2248/2248 [==============================] - 34s 15ms/step - loss: 0.7056 - accuracy: 0.6953 - val_loss: 0.5046 - val_accuracy: 0.7580\n",
      "Epoch 3/20\n",
      "2248/2248 [==============================] - 31s 14ms/step - loss: 0.5890 - accuracy: 0.7367 - val_loss: 0.5810 - val_accuracy: 0.7278\n",
      "Epoch 4/20\n",
      "2248/2248 [==============================] - 30s 13ms/step - loss: 0.5615 - accuracy: 0.7593 - val_loss: 0.5766 - val_accuracy: 0.7189\n",
      "Epoch 5/20\n",
      "2248/2248 [==============================] - 30s 13ms/step - loss: 0.5188 - accuracy: 0.7834 - val_loss: 0.4602 - val_accuracy: 0.7776\n",
      "Epoch 6/20\n",
      "2248/2248 [==============================] - 31s 14ms/step - loss: 0.4752 - accuracy: 0.7936 - val_loss: 0.4209 - val_accuracy: 0.7900\n",
      "Epoch 7/20\n",
      "2248/2248 [==============================] - 30s 13ms/step - loss: 0.4139 - accuracy: 0.8154 - val_loss: 0.3938 - val_accuracy: 0.8310\n",
      "Epoch 8/20\n",
      "2248/2248 [==============================] - 30s 13ms/step - loss: 0.3859 - accuracy: 0.8305 - val_loss: 0.5322 - val_accuracy: 0.7491\n",
      "Epoch 9/20\n",
      "2248/2248 [==============================] - 30s 13ms/step - loss: 0.3741 - accuracy: 0.8310 - val_loss: 0.3624 - val_accuracy: 0.8310\n",
      "Epoch 10/20\n",
      "2248/2248 [==============================] - 30s 13ms/step - loss: 0.3399 - accuracy: 0.8559 - val_loss: 0.5014 - val_accuracy: 0.7811\n",
      "Epoch 11/20\n",
      "2248/2248 [==============================] - 30s 13ms/step - loss: 0.3127 - accuracy: 0.8572 - val_loss: 0.3439 - val_accuracy: 0.8274\n",
      "Epoch 12/20\n",
      "2248/2248 [==============================] - 30s 13ms/step - loss: 0.2968 - accuracy: 0.8679 - val_loss: 0.4043 - val_accuracy: 0.8345\n",
      "Epoch 13/20\n",
      "2248/2248 [==============================] - 30s 13ms/step - loss: 0.2767 - accuracy: 0.8768 - val_loss: 0.3904 - val_accuracy: 0.8203\n",
      "Epoch 14/20\n",
      "2248/2248 [==============================] - 32s 14ms/step - loss: 0.2666 - accuracy: 0.8826 - val_loss: 0.4062 - val_accuracy: 0.8203\n",
      "Epoch 15/20\n",
      "2248/2248 [==============================] - 30s 13ms/step - loss: 0.2546 - accuracy: 0.8888 - val_loss: 0.3013 - val_accuracy: 0.8630\n",
      "Epoch 16/20\n",
      "2248/2248 [==============================] - 30s 13ms/step - loss: 0.2173 - accuracy: 0.9057 - val_loss: 0.3402 - val_accuracy: 0.8594\n",
      "Epoch 17/20\n",
      "2248/2248 [==============================] - 30s 13ms/step - loss: 0.2005 - accuracy: 0.9044 - val_loss: 0.3944 - val_accuracy: 0.8452\n",
      "Epoch 18/20\n",
      "2248/2248 [==============================] - 30s 13ms/step - loss: 0.2055 - accuracy: 0.9141 - val_loss: 0.3617 - val_accuracy: 0.8594\n",
      "Epoch 19/20\n",
      "2248/2248 [==============================] - 30s 14ms/step - loss: 0.2188 - accuracy: 0.9084 - val_loss: 0.3656 - val_accuracy: 0.8541\n",
      "Epoch 20/20\n",
      "2248/2248 [==============================] - 31s 14ms/step - loss: 0.1837 - accuracy: 0.9226 - val_loss: 0.3815 - val_accuracy: 0.8416\n"
     ]
    }
   ],
   "source": [
    "history = model.fit(train_X, y_train,\n",
    "        batch_size = BS,\n",
    "        epochs = EPOCHS,\n",
    "        verbose = 1,\n",
    "        validation_data = (test_X, y_test))"
   ]
  },
  {
   "cell_type": "markdown",
   "metadata": {},
   "source": [
    "### Model accuracy"
   ]
  },
  {
   "cell_type": "code",
   "execution_count": 73,
   "metadata": {},
   "outputs": [
    {
     "data": {
      "image/png": "[encoded data removed]",
      "text/plain": [
       "<Figure size 432x288 with 1 Axes>"
      ]
     },
     "metadata": {
      "needs_background": "light"
     },
     "output_type": "display_data"
    }
   ],
   "source": [
    "plt.plot(history.history['accuracy'])\n",
    "plt.plot(history.history['val_accuracy'])\n",
    "plt.title('model accuracy')\n",
    "plt.ylabel('accuracy')\n",
    "plt.xlabel('epoch')\n",
    "plt.legend(['train', 'val'], loc='upper left')\n",
    "plt.show()"
   ]
  },
  {
   "cell_type": "markdown",
   "metadata": {},
   "source": [
    "### Model loss"
   ]
  },
  {
   "cell_type": "code",
   "execution_count": 74,
   "metadata": {},
   "outputs": [
    {
     "data": {
      "image/png": "[encoded data removed]",
      "text/plain": [
       "<Figure size 432x288 with 1 Axes>"
      ]
     },
     "metadata": {
      "needs_background": "light"
     },
     "output_type": "display_data"
    }
   ],
   "source": [
    "plt.plot(history.history['loss'])\n",
    "plt.plot(history.history['val_loss'])\n",
    "plt.title('model loss')\n",
    "plt.ylabel('loss')\n",
    "plt.xlabel('epoch')\n",
    "plt.legend(['train', 'val'], loc='upper left')\n",
    "plt.show()"
   ]
  },
  {
   "cell_type": "markdown",
   "metadata": {},
   "source": [
    "# Testing model"
   ]
  },
  {
   "cell_type": "code",
   "execution_count": 75,
   "metadata": {},
   "outputs": [
    {
     "name": "stdout",
     "output_type": "stream",
     "text": [
      "Accuracy: 84.16%\n",
      "Test loss: 0.38147813240828465\n",
      "Test accuracy: 0.8416370153427124\n"
     ]
    }
   ],
   "source": [
    "scores = model.evaluate(test_X, y_test, verbose = 0)\n",
    "\n",
    "print('Accuracy: %.2f%%' % (scores[1] * 100))\n",
    "print('Test loss:', scores[0])\n",
    "print('Test accuracy:', scores[1])"
   ]
  },
  {
   "cell_type": "code",
   "execution_count": 76,
   "metadata": {},
   "outputs": [],
   "source": [
    "Y_pred = model.predict(test_X)\n",
    "Y_pred_classes = np.argmax(Y_pred,axis = 1) \n",
    "Y_true = np.argmax(y_test,axis = 1)"
   ]
  },
  {
   "cell_type": "code",
   "execution_count": 77,
   "metadata": {},
   "outputs": [
    {
     "name": "stdout",
     "output_type": "stream",
     "text": [
      "[0 1 1 0 1 0 1 0 1 1 0 0 0 0 1 0 1 0 1 0 0 0 0 1 1 0 0 0 1 1 1 1 0 1 1 1 1\n",
      " 0 1 1 1 0 1 0 1 1 1 0 1 0 1 1 1 1 1 1 0 1 0 0 1 1 1 0 0 1 1 1 0 1 0 1 1 0\n",
      " 1 1 0 0 1 1 0 0 1 0 1 1 0 0 0 1 1 1 1 0 0 1 1 0 0 1 1 0 1 0 1 0 0 0 0 1 1\n",
      " 0 1 0 0 0 1 1 1 1 1 0 1 0 1 0 0 0 0 0 0 1 1 0 0 0 1 0 1 1 0 1 0 1 1 0 1 0\n",
      " 0 1 1 0 1 1 1 1 1 1 1 0 1 1 0 1 0 1 0 0 0 1 0 1 0 1 1 1 0 0 0 1 0 1 0 1 0\n",
      " 0 0 1 1 1 0 0 1 1 1 1 0 1 0 1 0 1 1 1 1 1 1 0 1 1 0 1 1 0 1 0 0 1 1 1 0 1\n",
      " 1 1 1 0 1 1 0 1 0 1 1 0 1 0 1 1 1 0 1 0 1 0 1 0 1 1 0 1 1 1 1 0 0 0 1 0 0\n",
      " 0 1 1 0 1 1 0 0 1 1 1 1 1 1 0 1 0 1 1 1 1 0 1 1 0 1 1 1 0 0 0 1 1 0 0 0 1\n",
      " 1 1 1 1 1 1 1 0 1 0 1 1 1 0 0 1 1 0 1 1 1 1 0 0 0 1 1 1 1 0 1 0 1 1 0 0 1\n",
      " 1 1 1 0 1 1 0 1 0 0 1 1 1 1 1 0 1 0 1 0 1 0 0 0 1 1 1 1 1 0 1 1 1 1 1 0 1\n",
      " 1 0 1 1 0 1 0 0 1 1 0 0 1 1 1 1 1 0 0 0 1 0 0 1 1 0 0 0 1 0 1 0 1 0 1 1 1\n",
      " 1 0 1 1 0 1 1 1 0 0 0 1 1 0 1 1 0 0 1 1 1 0 1 0 1 0 1 0 1 1 1 0 0 1 1 0 1\n",
      " 0 1 0 1 1 0 0 0 1 1 0 1 0 0 1 1 1 1 1 1 0 1 1 1 1 1 0 0 0 1 0 1 1 0 0 1 0\n",
      " 1 1 0 1 0 0 0 1 1 1 0 0 1 1 1 0 0 1 0 1 1 1 1 0 1 1 1 1 1 1 1 1 0 1 1 1 0\n",
      " 1 1 1 0 0 1 1 1 0 0 1 1 1 0 0 1 1 0 1 0 0 0 1 1 1 1 0 1 1 1 1 0 1 0 1 0 0\n",
      " 0 1 1 1 0 1 1]\n",
      "[0 1 0 0 1 0 1 0 1 0 0 0 1 0 1 0 1 0 1 0 0 0 0 1 1 0 1 0 1 1 1 1 1 1 1 1 1\n",
      " 1 1 1 1 0 1 0 1 1 1 0 1 0 1 1 1 1 1 1 0 1 0 0 1 1 1 0 1 0 1 0 0 1 0 1 0 0\n",
      " 0 1 0 0 1 1 1 0 1 0 1 1 0 0 0 0 1 1 1 0 0 0 1 0 0 1 1 0 1 1 1 0 0 0 0 1 1\n",
      " 0 1 0 0 0 1 1 1 1 0 0 1 0 1 0 0 0 1 0 0 0 1 0 0 0 1 1 1 1 0 1 0 1 1 1 1 0\n",
      " 0 0 1 0 1 1 0 0 1 0 1 0 1 1 0 1 0 1 0 1 0 1 0 1 1 1 0 1 1 0 0 0 0 1 0 1 0\n",
      " 0 0 1 1 1 1 0 1 1 1 1 1 1 0 1 0 1 1 1 1 1 1 0 1 1 0 1 1 0 0 0 1 0 1 0 0 1\n",
      " 1 1 1 1 1 1 0 1 0 1 1 0 1 0 1 0 1 1 0 0 1 0 1 0 1 1 0 1 1 0 1 1 0 0 1 0 0\n",
      " 0 1 1 0 1 0 0 0 1 1 1 1 1 1 0 1 0 1 1 1 1 0 0 1 1 1 1 1 0 0 0 1 1 0 0 0 1\n",
      " 1 1 1 1 0 0 1 0 1 0 0 1 1 1 0 1 1 1 1 1 1 1 0 0 1 1 1 1 1 1 1 1 1 1 0 0 1\n",
      " 1 1 1 0 1 1 0 1 0 1 1 1 1 1 1 1 0 0 1 0 1 1 0 0 1 0 1 1 1 0 1 0 1 1 0 0 1\n",
      " 0 0 0 1 0 1 0 0 1 0 0 0 0 1 1 1 0 0 0 0 1 0 0 1 1 0 0 0 1 0 0 0 0 0 1 1 1\n",
      " 1 0 0 1 0 1 1 1 0 0 0 0 0 0 1 1 0 0 1 1 1 0 1 1 1 0 0 0 1 1 1 0 0 1 1 0 1\n",
      " 0 1 0 1 1 0 0 0 0 1 0 1 1 0 1 1 0 1 1 1 1 1 1 1 0 1 0 0 0 1 0 1 1 0 0 1 0\n",
      " 1 1 0 1 0 0 0 1 1 1 1 1 1 0 1 0 0 1 0 1 1 1 1 0 1 1 1 1 1 1 1 1 0 1 1 1 1\n",
      " 1 0 1 0 1 1 0 0 0 0 1 1 0 0 0 1 1 0 1 1 0 0 1 1 0 1 0 1 1 1 1 0 1 0 0 0 1\n",
      " 0 1 1 1 0 1 1]\n"
     ]
    }
   ],
   "source": [
    "print(Y_pred_classes)\n",
    "print(Y_true)"
   ]
  },
  {
   "cell_type": "code",
   "execution_count": 78,
   "metadata": {},
   "outputs": [],
   "source": [
    "from sklearn.metrics import confusion_matrix\n",
    "import seaborn as sns"
   ]
  },
  {
   "cell_type": "code",
   "execution_count": 79,
   "metadata": {},
   "outputs": [
    {
     "data": {
      "image/png": "[encoded data removed]",
      "text/plain": [
       "<Figure size 576x576 with 2 Axes>"
      ]
     },
     "metadata": {
      "needs_background": "light"
     },
     "output_type": "display_data"
    }
   ],
   "source": [
    "cm = confusion_matrix(Y_true, Y_pred_classes)\n",
    "cm = cm.astype('float') / cm.sum(axis=1)[:, np.newaxis]\n",
    "\n",
    "f,ax = plt.subplots(figsize=(8, 8))\n",
    "sns.heatmap(cm, annot=True, linewidths=0.01,cmap=\"YlGnBu\",linecolor=\"gray\", fmt= '.1f',ax=ax)\n",
    "plt.xlabel(\"Predicted Label\")\n",
    "plt.ylabel(\"True Label\")\n",
    "plt.title(\"Confusion Matrix\")\n",
    "plt.show()"
   ]
  },
  {
   "cell_type": "markdown",
   "metadata": {},
   "source": [
    "# Save model"
   ]
  },
  {
   "cell_type": "code",
   "execution_count": 80,
   "metadata": {},
   "outputs": [],
   "source": [
    "mod = f'model_sequential{(scores[1] * 100)}'\n",
    "model.save('./output' + mod + '.h5')"
   ]
  },
  {
   "cell_type": "code",
   "execution_count": 81,
   "metadata": {},
   "outputs": [],
   "source": [
    "model_json = model.to_json()\n",
    "with open('./output' + mod + '.json', \"w\") as json_file:\n",
    "    json.dump(model_json, json_file)\n",
    "\n",
    "model.save_weights(mod)"
   ]
  },
  {
   "cell_type": "markdown",
   "metadata": {},
   "source": [
    "# Loading model"
   ]
  },
  {
   "cell_type": "code",
   "execution_count": 96,
   "metadata": {},
   "outputs": [],
   "source": [
    "with open('./output/model_sequential84.16370153427124.json','r') as f:\n",
    "    model_json = json.load(f)\n",
    "    \n",
    "model = model_from_json(model_json)\n",
    "\n",
    "model.load_weights('./output/model_sequential84.16370153427124.h5')"
   ]
  },
  {
   "cell_type": "markdown",
   "metadata": {},
   "source": [
    "### Prediction with test"
   ]
  },
  {
   "cell_type": "code",
   "execution_count": 137,
   "metadata": {},
   "outputs": [
    {
     "name": "stdout",
     "output_type": "stream",
     "text": [
      "(60, 60, 1)\n",
      "Probs \n",
      "man - 0.98296 \n",
      "woman - 0.01704\n"
     ]
    },
    {
     "data": {
      "text/plain": [
       "<matplotlib.image.AxesImage at 0x14cfc91d0>"
      ]
     },
     "execution_count": 137,
     "metadata": {},
     "output_type": "execute_result"
    },
    {
     "data": {
      "image/png": "[encoded data removed]",
      "text/plain": [
       "<Figure size 432x288 with 1 Axes>"
      ]
     },
     "metadata": {
      "needs_background": "light"
     },
     "output_type": "display_data"
    }
   ],
   "source": [
    "random_indices = [random.randint(0, len(test_X))][0]\n",
    "\n",
    "img = test_X[random_indices]\n",
    "print(img.shape)\n",
    "pred = model.predict(np.expand_dims(img,axis=0))[0]\n",
    "print('Probs \\nman - {0:.5f} \\nwoman - {1:.5f}'.format(pred[0],pred[1]))\n",
    "\n",
    "plt.imshow(Image.fromarray(img.squeeze()*255), cmap='gray', interpolation='none')"
   ]
  },
  {
   "cell_type": "markdown",
   "metadata": {},
   "source": [
    "### Prediction with outside"
   ]
  },
  {
   "cell_type": "code",
   "execution_count": 115,
   "metadata": {},
   "outputs": [],
   "source": [
    "face_cascade = cv2.CascadeClassifier('./haarcascade_frontalface_default.xml')"
   ]
  },
  {
   "cell_type": "code",
   "execution_count": 133,
   "metadata": {},
   "outputs": [],
   "source": [
    "def cleanData(img):\n",
    "    '''\n",
    "    Reconoce el rostro de personas sobre imágenes:\n",
    "    - Crea una sección que encuadra el rostro.\n",
    "    - Transforma la imagen a escala de grises.\n",
    "    - Reescala la imagen a 48x48.\n",
    "    - Traduce la información del cuadrante a np.array.\n",
    "    \n",
    "    En el caso de no reconocer ningun rostro devuelve /no.\n",
    "    '''\n",
    "    try:\n",
    "        image = cv2.imread(img, cv2.IMREAD_GRAYSCALE)\n",
    "        face_p = face_cascade.detectMultiScale(\n",
    "            image,\n",
    "            scaleFactor=1.1,\n",
    "            minNeighbors=5\n",
    "        )\n",
    "\n",
    "        (x, y, w, h) = face_p[0]\n",
    "\n",
    "        crop_image = image[y:y+h,x:x+w]\n",
    "\n",
    "        img_data = cv2.resize(crop_image,(60,60))\n",
    "        img_data = np.stack(img_data)\n",
    "        \n",
    "    except Exception as e:\n",
    "        return e,'no'\n",
    "    \n",
    "    return img_data\n",
    "        "
   ]
  },
  {
   "cell_type": "code",
   "execution_count": 134,
   "metadata": {},
   "outputs": [
    {
     "data": {
      "text/plain": [
       "array([[172, 171, 170, ..., 190, 192, 188],\n",
       "       [174, 172, 172, ..., 186, 193, 192],\n",
       "       [174, 178, 174, ..., 187, 192, 190],\n",
       "       ...,\n",
       "       [ 84,  84,  88, ..., 198, 200, 200],\n",
       "       [ 87,  91,  82, ..., 200, 199, 201],\n",
       "       [ 86,  91,  81, ..., 200, 203, 200]], dtype=uint8)"
      ]
     },
     "execution_count": 134,
     "metadata": {},
     "output_type": "execute_result"
    }
   ],
   "source": [
    "cleanData('/Users/marilomolinacandela/Desktop/IMG_3547.JPG')\n"
   ]
  },
  {
   "cell_type": "markdown",
   "metadata": {},
   "source": [
    "#### Man predict"
   ]
  },
  {
   "cell_type": "code",
   "execution_count": 135,
   "metadata": {},
   "outputs": [
    {
     "name": "stdout",
     "output_type": "stream",
     "text": [
      "[0.9961278  0.00387223]\n",
      "Probs \n",
      "man - 0.99613 \n",
      "woman - 0.00387\n"
     ]
    },
    {
     "data": {
      "text/plain": [
       "<matplotlib.image.AxesImage at 0x14d4690d0>"
      ]
     },
     "execution_count": 135,
     "metadata": {},
     "output_type": "execute_result"
    },
    {
     "data": {
      "image/png": "[encoded data removed]",
      "text/plain": [
       "<Figure size 432x288 with 2 Axes>"
      ]
     },
     "metadata": {
      "needs_background": "light"
     },
     "output_type": "display_data"
    }
   ],
   "source": [
    "pruf = cleanData('/Users/marilomolinacandela/Desktop/IMG_3547.JPG')\n",
    "input_pruf = cv2.imread('/Users/marilomolinacandela/Desktop/IMG_3547.JPG')\n",
    "\n",
    "plt.subplot(121)\n",
    "plt.imshow(pruf)\n",
    "plt.subplot(122)\n",
    "plt.imshow(Image.fromarray(pruf.squeeze()*255))\n",
    "\n",
    "p = np.expand_dims(pruf,axis=0).reshape(np.expand_dims(pruf,axis=0).shape[0], 60, 60, 1)\n",
    "\n",
    "pred = model.predict(p)[0]\n",
    "print(pred)\n",
    "print('Probs \\nman - {0:.5f} \\nwoman - {1:.5f}'.format(pred[0],pred[1]))\n",
    "\n",
    "plt.imshow(Image.fromarray(pruf.squeeze()*255), cmap='gray', interpolation='none')"
   ]
  },
  {
   "cell_type": "markdown",
   "metadata": {},
   "source": [
    "#### Woman predict"
   ]
  },
  {
   "cell_type": "code",
   "execution_count": 136,
   "metadata": {},
   "outputs": [
    {
     "name": "stdout",
     "output_type": "stream",
     "text": [
      "[0.0026939 0.9973061]\n",
      "Probs \n",
      "man - 0.00269 \n",
      "woman - 0.99731\n"
     ]
    },
    {
     "data": {
      "text/plain": [
       "<matplotlib.image.AxesImage at 0x14cee5290>"
      ]
     },
     "execution_count": 136,
     "metadata": {},
     "output_type": "execute_result"
    },
    {
     "data": {
      "image/png": "[encoded data removed]",
      "text/plain": [
       "<Figure size 432x288 with 2 Axes>"
      ]
     },
     "metadata": {
      "needs_background": "light"
     },
     "output_type": "display_data"
    }
   ],
   "source": [
    "pruf = cleanData('/Users/marilomolinacandela/Desktop/pruf_w.jpeg')\n",
    "input_pruf = cv2.imread('/Users/marilomolinacandela/pruf_w.jpeg')\n",
    "\n",
    "plt.subplot(121)\n",
    "plt.imshow(pruf)\n",
    "plt.subplot(122)\n",
    "plt.imshow(Image.fromarray(pruf.squeeze()*255))\n",
    "\n",
    "p = np.expand_dims(pruf,axis=0).reshape(np.expand_dims(pruf,axis=0).shape[0], 60, 60, 1)\n",
    "\n",
    "pred = model.predict(p)[0]\n",
    "print(pred)\n",
    "print('Probs \\nman - {0:.5f} \\nwoman - {1:.5f}'.format(pred[0],pred[1]))\n",
    "\n",
    "plt.imshow(Image.fromarray(pruf.squeeze()*255), cmap='gray', interpolation='none')"
   ]
  },
  {
   "cell_type": "code",
   "execution_count": null,
   "metadata": {},
   "outputs": [],
   "source": []
  }
 ],
 "metadata": {
  "hide_input": false,
  "kernelspec": {
   "display_name": "Python 3",
   "language": "python",
   "name": "python3"
  },
  "language_info": {
   "codemirror_mode": {
    "name": "ipython",
    "version": 3
   },
   "file_extension": ".py",
   "mimetype": "text/x-python",
   "name": "python",
   "nbconvert_exporter": "python",
   "pygments_lexer": "ipython3",
   "version": "3.7.6"
  }
 },
 "nbformat": 4,
 "nbformat_minor": 4
}
