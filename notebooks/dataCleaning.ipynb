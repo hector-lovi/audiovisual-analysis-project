{
 "cells": [
  {
   "cell_type": "markdown",
   "metadata": {},
   "source": [
    "# Limpieza de imágenes"
   ]
  },
  {
   "cell_type": "code",
   "execution_count": 65,
   "metadata": {},
   "outputs": [],
   "source": [
    "from os import listdir\n",
    "import cv2\n",
    "import re\n",
    "import numpy as np\n",
    "import pandas as pd\n",
    "import matplotlib.pyplot as plt\n"
   ]
  },
  {
   "cell_type": "code",
   "execution_count": 66,
   "metadata": {},
   "outputs": [],
   "source": [
    "faceCascade = cv2.Cascade_classifier('haarcascade_frontalface_default.xml')"
   ]
  },
  {
   "cell_type": "code",
   "execution_count": 67,
   "metadata": {},
   "outputs": [],
   "source": [
    "def cleanData(img):\n",
    "    '''\n",
    "    Reconoce el rostro de personas sobre imágenes:\n",
    "    - Crea una sección que encuadra el rostro.\n",
    "    - Transforma la imagen a escala de grises.\n",
    "    - Reescala la imagen a 48x48.\n",
    "    - Traduce la información del cuadrante a np.array.\n",
    "    \n",
    "    En el caso de no reconocer ningun rostro devuelve /no.\n",
    "    '''\n",
    "    try:\n",
    "        image = cv2.imread(img, cv2.IMREAD_COLOR)\n",
    "        face_p = face_cascade.detectMultiScale(\n",
    "            image,\n",
    "            scaleFactor=1.1,\n",
    "            minNeighbors=5\n",
    "        )\n",
    "\n",
    "        (x, y, w, h) = face_p[0]\n",
    "\n",
    "        crop_image = image[y:y+h,x:x+w]\n",
    "\n",
    "        img_data=cv2.resize(crop_image,(60,60))\n",
    "        \n",
    "    except Exception as e:\n",
    "        return e,'no'\n",
    "    \n",
    "    return img_data\n",
    "        "
   ]
  },
  {
   "cell_type": "markdown",
   "metadata": {},
   "source": [
    "#### Dirección de los datos"
   ]
  },
  {
   "cell_type": "code",
   "execution_count": 68,
   "metadata": {},
   "outputs": [],
   "source": [
    "key_m = './input/men/'\n",
    "key_w = './input/women/'\n",
    "value_m = listdir(key_m)\n",
    "value_w = listdir(key_w)"
   ]
  },
  {
   "cell_type": "code",
   "execution_count": 69,
   "metadata": {},
   "outputs": [],
   "source": [
    "p_man = [key_m + m for m in value_m]\n",
    "p_woman = [key_w + w for w in value_w]\n",
    "\n",
    "all_keys = ['man', 'woman']\n",
    "all_values = [p_man, p_woman]"
   ]
  },
  {
   "cell_type": "markdown",
   "metadata": {},
   "source": [
    "Concat de todos los path"
   ]
  },
  {
   "cell_type": "code",
   "execution_count": 70,
   "metadata": {},
   "outputs": [
    {
     "data": {
      "text/plain": [
       "['./input/men/00001722.jpg',\n",
       " './input/men/00001044.jpg',\n",
       " './input/men/00001291.png',\n",
       " './input/men/00001050.jpg',\n",
       " './input/men/00001736.jpg']"
      ]
     },
     "execution_count": 70,
     "metadata": {},
     "output_type": "execute_result"
    }
   ],
   "source": [
    "concat_values = p_man + p_woman\n",
    "concat_values[:5]"
   ]
  },
  {
   "cell_type": "markdown",
   "metadata": {},
   "source": [
    "Diccionario con los valores clave de cada imagen"
   ]
  },
  {
   "cell_type": "code",
   "execution_count": 71,
   "metadata": {},
   "outputs": [],
   "source": [
    "p_dict = {}\n",
    "\n",
    "for e in range(len(concat_values)):\n",
    "    p_dict[e] = {\n",
    "        'sex': concat_values[e].split('/')[2],\n",
    "        'array': cleanData(concat_values[e])\n",
    "    }"
   ]
  },
  {
   "cell_type": "markdown",
   "metadata": {},
   "source": [
    "Limpieza de DataFrame final"
   ]
  },
  {
   "cell_type": "code",
   "execution_count": 72,
   "metadata": {},
   "outputs": [
    {
     "data": {
      "text/html": [
       "<div>\n",
       "<style scoped>\n",
       "    .dataframe tbody tr th:only-of-type {\n",
       "        vertical-align: middle;\n",
       "    }\n",
       "\n",
       "    .dataframe tbody tr th {\n",
       "        vertical-align: top;\n",
       "    }\n",
       "\n",
       "    .dataframe thead th {\n",
       "        text-align: right;\n",
       "    }\n",
       "</style>\n",
       "<table border=\"1\" class=\"dataframe\">\n",
       "  <thead>\n",
       "    <tr style=\"text-align: right;\">\n",
       "      <th></th>\n",
       "      <th>sex</th>\n",
       "      <th>array</th>\n",
       "    </tr>\n",
       "  </thead>\n",
       "  <tbody>\n",
       "    <tr>\n",
       "      <th>0</th>\n",
       "      <td>men</td>\n",
       "      <td>[[[74, 83, 70], [75, 84, 71], [76, 84, 71], [7...</td>\n",
       "    </tr>\n",
       "    <tr>\n",
       "      <th>1</th>\n",
       "      <td>men</td>\n",
       "      <td>[[[2, 15, 29], [9, 23, 41], [16, 28, 45], [14,...</td>\n",
       "    </tr>\n",
       "    <tr>\n",
       "      <th>2</th>\n",
       "      <td>men</td>\n",
       "      <td>[[[128, 128, 0], [128, 128, 0], [128, 128, 0],...</td>\n",
       "    </tr>\n",
       "    <tr>\n",
       "      <th>3</th>\n",
       "      <td>men</td>\n",
       "      <td>[[[37, 27, 33], [38, 28, 34], [44, 35, 38], [4...</td>\n",
       "    </tr>\n",
       "    <tr>\n",
       "      <th>4</th>\n",
       "      <td>men</td>\n",
       "      <td>[[[255, 255, 255], [255, 255, 255], [255, 255,...</td>\n",
       "    </tr>\n",
       "  </tbody>\n",
       "</table>\n",
       "</div>"
      ],
      "text/plain": [
       "   sex                                              array\n",
       "0  men  [[[74, 83, 70], [75, 84, 71], [76, 84, 71], [7...\n",
       "1  men  [[[2, 15, 29], [9, 23, 41], [16, 28, 45], [14,...\n",
       "2  men  [[[128, 128, 0], [128, 128, 0], [128, 128, 0],...\n",
       "3  men  [[[37, 27, 33], [38, 28, 34], [44, 35, 38], [4...\n",
       "4  men  [[[255, 255, 255], [255, 255, 255], [255, 255,..."
      ]
     },
     "execution_count": 72,
     "metadata": {},
     "output_type": "execute_result"
    }
   ],
   "source": [
    "data = pd.DataFrame(p_dict).T\n",
    "data.head()"
   ]
  },
  {
   "cell_type": "code",
   "execution_count": 73,
   "metadata": {},
   "outputs": [],
   "source": [
    "data.reset_index(drop=True, inplace=True)"
   ]
  },
  {
   "cell_type": "code",
   "execution_count": 74,
   "metadata": {},
   "outputs": [
    {
     "name": "stderr",
     "output_type": "stream",
     "text": [
      "/usr/local/lib/python3.7/site-packages/ipykernel_launcher.py:2: FutureWarning: elementwise comparison failed; returning scalar instead, but in the future will perform elementwise comparison\n",
      "  \n"
     ]
    },
    {
     "data": {
      "text/plain": [
       "2815"
      ]
     },
     "execution_count": 74,
     "metadata": {},
     "output_type": "execute_result"
    }
   ],
   "source": [
    "for e in range(len(data['array'])):\n",
    "    if 'no' in data['array'][e]:\n",
    "        data.drop(e, axis=0, inplace=True)\n",
    "    else:\n",
    "        pass\n",
    "\n",
    "len(data)"
   ]
  },
  {
   "cell_type": "code",
   "execution_count": 75,
   "metadata": {},
   "outputs": [],
   "source": [
    "data.to_pickle('./output/dataCleanColorDef.pkl')"
   ]
  },
  {
   "cell_type": "code",
   "execution_count": null,
   "metadata": {},
   "outputs": [],
   "source": []
  }
 ],
 "metadata": {
  "hide_input": false,
  "kernelspec": {
   "display_name": "Python 3",
   "language": "python",
   "name": "python3"
  },
  "language_info": {
   "codemirror_mode": {
    "name": "ipython",
    "version": 3
   },
   "file_extension": ".py",
   "mimetype": "text/x-python",
   "name": "python",
   "nbconvert_exporter": "python",
   "pygments_lexer": "ipython3",
   "version": "3.7.6"
  }
 },
 "nbformat": 4,
 "nbformat_minor": 4
}
